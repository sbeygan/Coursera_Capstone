{
 "cells": [
  {
   "cell_type": "markdown",
   "metadata": {},
   "source": [
    "# Capstone Project - Restaurant Analysis in San Francisco - Final Report"
   ]
  },
  {
   "cell_type": "markdown",
   "metadata": {},
   "source": [
    "## Table of Contents\n",
    "* [Business Problem](#business_problem)\n",
    "* [Required Data and Cleaning](#required_data_and_cleaning)"
   ]
  },
  {
   "cell_type": "markdown",
   "metadata": {},
   "source": [
    "## Business Problem <a name=\"business_problem\"></a>"
   ]
  },
  {
   "cell_type": "markdown",
   "metadata": {},
   "source": [
    "The target audience for this project are the people looking to find the best spot in San Francisco, California, US to setup a restaurant or fast food and feel confident that they will have enough customer to run their business.\n",
    "\n",
    "City of San Francisco is one of the busy cities in California state and a big city. There are so many restaurants and fast foods available in the city. That also doesn't mean every part of the city has restaurants or all types of cuisine is available in every parts of city. There may be neighborhoods where there are no restaurants or less restaurants with more people living or walking around the place or there may be a specific cuisine type not available in a neighborhood. These neighborhoods are our areas of interest. The goal of this project is to **find the best neighborhood to setup a restaurant of a specific cuisine type**. \n",
    "\n",
    "In this project we will specifically focus on **setting up a Chinese/Asian cuisine restaurant in San Francisco, California, US**. "
   ]
  },
  {
   "cell_type": "markdown",
   "metadata": {},
   "source": [
    "## Required Data and Cleaning <a name=\"required_data_and_cleaning\"></a>"
   ]
  },
  {
   "cell_type": "markdown",
   "metadata": {},
   "source": [
    "**San Francisco Neighborhood:** \n",
    "The list of neighborhood in San Francisco will be extracted from the Wikipedia page https://en.wikipedia.org/wiki/List_of_neighborhoods_in_San_Francisco using the **BeautifulSoup** library for web page scrapping. The neighborhood list will be extracted one by one from the web page and saved as a list. Using the **geocoder** library from Nominatim, we will get the latitude and longitude detail for each neighborhood in the list. If location information is not available for any neighborhood, we will drop those neighborhoods for our analysis. \n",
    "\n",
    "**Restaurants/Fast foods in San Francisco:** \n",
    "Using the **Foursquare API**, we will get the list of all restaurants/fast foods using the Food category and their sub-categories in each neighborhood to understand how many restaurants are available and the type of cuisine of each restaurants. Separate out the Chinese/Asian cuisine from that list to understand which neighborhoods have this type of cuisine and how many are there.\n",
    "\n",
    "**People Venues:** \n",
    "Using the **Foursquare API** get the list of venues in each neighborhood where we expect more people to be there and see a high chance of those people using the restaurants/fast foods. For example, if there are lot of shops or parks, then there is high possibility that people can visit the restaurants in those locations. If there are lot of night clubs, then there is low possibility of people visiting the restaurants in that location."
   ]
  },
  {
   "cell_type": "code",
   "execution_count": null,
   "metadata": {},
   "outputs": [],
   "source": []
  }
 ],
 "metadata": {
  "kernelspec": {
   "display_name": "Python 3",
   "language": "python",
   "name": "python3"
  },
  "language_info": {
   "codemirror_mode": {
    "name": "ipython",
    "version": 3
   },
   "file_extension": ".py",
   "mimetype": "text/x-python",
   "name": "python",
   "nbconvert_exporter": "python",
   "pygments_lexer": "ipython3",
   "version": "3.7.1"
  }
 },
 "nbformat": 4,
 "nbformat_minor": 2
}
